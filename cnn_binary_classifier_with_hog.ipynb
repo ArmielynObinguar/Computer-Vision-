{
  "cells": [
    {
      "cell_type": "code",
      "execution_count": null,
      "metadata": {
        "colab": {
          "base_uri": "https://localhost:8080/"
        },
        "id": "p3FRvH4aWAM1",
        "outputId": "7e98daad-5491-4030-d5e3-5969a8025f96"
      },
      "outputs": [
        {
          "output_type": "stream",
          "name": "stdout",
          "text": [
            "Mounted at /content/drive\n"
          ]
        }
      ],
      "source": [
        "from google.colab import drive\n",
        "drive.mount('/content/drive')\n",
        "\n",
        "import os\n",
        "import zipfile\n",
        "import tempfile\n",
        "import numpy as np\n",
        "from PIL import Image\n",
        "import tensorflow as tf\n",
        "from pathlib import Path\n",
        "from shutil import copyfile\n",
        "from skimage import exposure\n",
        "from skimage.feature import hog\n",
        "from sklearn.metrics import f1_score\n",
        "from tensorflow.keras.models import Model\n",
        "from tensorflow.keras.optimizers import Adam\n",
        "from tensorflow.keras.metrics import BinaryAccuracy\n",
        "from tensorflow.keras.layers import Conv2D, MaxPooling2D, Flatten, Dense, Dropout\n",
        "from tensorflow.keras.callbacks import Callback, EarlyStopping\n",
        "from tensorflow.keras.preprocessing.image import ImageDataGenerator\n",
        "\n",
        "dataset_archive_path = \"/content/drive/My Drive/Colab Notebooks/GigaChallenge/datasets/hog_features_256x256.zip\"\n",
        "path_to_extract_archive = tempfile.gettempdir()\n",
        "path_to_dirs_for_model_training = os.path.join(tempfile.gettempdir(), \"data\")\n",
        "#image_classes_dir_path = os.path.join(path_to_extract_archive, \"datasets\")\n",
        "image_classes_dir_path = os.path.join(path_to_extract_archive, \"hog_features\")\n",
        "dirs_for_model_training = [\"train\", \"val\", \"test\"]\n",
        "SEED_NUM = 51\n",
        "\n",
        "def set_seed(seed):\n",
        "    np.random.seed(seed)\n",
        "    tf.random.set_seed(seed)\n",
        "\n",
        "def create_folders(paths):\n",
        "  _ = [Path(p).mkdir(parents=True, exist_ok=True) for p in paths]\n",
        "\n",
        "def copy_files(files, src_dir, dest_dir):\n",
        "  _ = [copyfile(os.path.join(src_dir, f), os.path.join(dest_dir, f))\n",
        "       for f in files]\n",
        "\n",
        "def copy_files_for_model_training(image_classes_dir_path, train_dir, val_dir, test_dir, num_files):\n",
        "  for class_name in os.listdir(image_classes_dir_path):\n",
        "    path = os.path.join(image_classes_dir_path, class_name)\n",
        "    if os.path.isdir(path):\n",
        "      train_ds, val_ds, test_ds = split_data(path, total_images=num_files)\n",
        "      _ = [copy_files(ds, path, dest) for ds, dest in [(train_ds, os.path.join(train_dir, class_name)),\n",
        "                                                      (val_ds, os.path.join(val_dir, class_name)),\n",
        "                                                      (test_ds, os.path.join(test_dir, class_name))]]\n",
        "def is_valid_image(parent_dir, fname):\n",
        "  path = os.path.join(parent_dir, fname)\n",
        "  try:\n",
        "    img = Image.open(path)\n",
        "    img.verify()\n",
        "  except Exception as e:\n",
        "    print(f\"Invalid image: {path}\")\n",
        "    return False\n",
        "  return True\n",
        "\n",
        "def get_dataset_size(image_classes_dir_path):\n",
        "  dataset_size = sys.maxsize\n",
        "  for d in os.listdir(image_classes_dir_path):\n",
        "    imgs_path = os.path.join(image_classes_dir_path, d)\n",
        "    if os.path.isdir(imgs_path):\n",
        "      files_num = len([f for f in os.listdir(imgs_path) if is_valid_image(imgs_path, f)])\n",
        "      dataset_size = min(dataset_size, files_num)\n",
        "  return dataset_size\n",
        "\n",
        "def split_data(images_dir, train_pct = 0.75, val_pct = 0.15, total_images=None):\n",
        "  imgs = os.listdir(images_dir)\n",
        "  valid_imgs = []\n",
        "  for img_name in imgs:\n",
        "    try:\n",
        "      img_path = os.path.join(images_dir, img_name)\n",
        "      img = Image.open(img_path)\n",
        "      img.verify()\n",
        "      valid_imgs.append(img_name)\n",
        "    except Exception as e:\n",
        "      print(f\"Invalid image: {img_path}\")\n",
        "  n_images = total_images if total_images else len(valid_imgs)\n",
        "  print(f\"n_images: {n_images}\")\n",
        "  n_train_images = round(n_images * train_pct)\n",
        "  n_val_images = round(n_images * val_pct)\n",
        "  print(f\"valid_imgs: {len(valid_imgs)}\")\n",
        "  print(f\"n_train_images: {n_train_images}\")\n",
        "  print(f\"n_val_images: {n_val_images}\")\n",
        "  print(f\"n_images: {n_images}\")\n",
        "  train_images = valid_imgs[:n_train_images]\n",
        "  val_images = valid_imgs[n_train_images:n_train_images+n_val_images]\n",
        "  test_images = valid_imgs[n_train_images+n_val_images:n_images]\n",
        "  return train_images, val_images, test_images\n",
        "\n",
        "def extract_archive(archive_path, dest_dir):\n",
        "  if not os.path.exists(archive_path):\n",
        "    raise Exception(f\"Archive {archive_path} does not exist.\")\n",
        "  create_folders([ dest_dir ])\n",
        "  zip_ref = zipfile.ZipFile(archive_path, \"r\")\n",
        "  zip_ref.extractall(dest_dir)\n",
        "  zip_ref.close()\n",
        "\n",
        "def create_dirs_for_model_training(base_path, image_classes_dir_path):\n",
        "  train_dir, val_dir, test_dir = [os.path.join(base_path, d) for d in [\"train\", \"val\", \"test\"]]\n",
        "  for class_name in os.listdir(image_classes_dir_path):\n",
        "    sub_folders = [os.path.join(d, class_name) for d in [train_dir, val_dir, test_dir]]\n",
        "    create_folders(sub_folders)\n",
        "  return train_dir, val_dir, test_dir\n",
        "\n",
        "class AccuracyCallback(Callback):\n",
        "  def __init__(self, target_acc_pct):\n",
        "    self.target_acc_pct = target_acc_pct\n",
        "  def on_epoch_end(self, epoch, logs={}):\n",
        "    current_acc_pct = logs.get(\"binary_accuracy\")\n",
        "    if current_acc_pct >= self.target_acc_pct:\n",
        "      current_acc = round(current_acc_pct*100, 2)\n",
        "      target_acc = round(self.target_acc_pct*100, 2)\n",
        "      print(f\"\\nCurrent accuracy is {current_acc}, target accuracy of {target_acc} is reached.\\n\")\n",
        "      self.model.stop_training=True\n",
        "\n",
        "class F1Metrics(Callback):\n",
        "    def on_epoch_end(self, batch, logs={}):\n",
        "        print(self.validation_data)\n",
        "        predict = np.asarray(self.model.predict(self.validation_data[0]))\n",
        "        targ = self.validation_data[1]\n",
        "        self.f1s=f1_score(targ, predict)\n",
        "        return\n",
        "\n",
        "def get_model():\n",
        "  model = tf.keras.models.Sequential([\n",
        "    Conv2D(16, (3, 3), activation=\"relu\", input_shape=(256, 256, 1)),\n",
        "    MaxPooling2D(2, 2),\n",
        "    Conv2D(32, (3, 3), activation=\"relu\"),\n",
        "    MaxPooling2D(2, 2),\n",
        "    Conv2D(64, (3, 3), activation=\"relu\"),\n",
        "    MaxPooling2D(2, 2),\n",
        "    Conv2D(128, (3, 3), activation=\"relu\"),\n",
        "    MaxPooling2D(2, 2),\n",
        "    Flatten(),\n",
        "    Dense(128, activation=\"relu\"),\n",
        "    #Dropout(0.25),\n",
        "    Dense(64, activation=\"relu\"),\n",
        "    Dropout(0.25),\n",
        "    Dense(1, activation=\"sigmoid\")  \n",
        "  ])\n",
        "  model.summary()\n",
        "  model.compile(optimizer=tf.keras.optimizers.RMSprop(learning_rate=10e-5),\n",
        "                #optimizer=Adam(learning_rate=0.00001),\n",
        "                loss=tf.keras.losses.BinaryCrossentropy(),\n",
        "                metrics=[BinaryAccuracy(),\n",
        "                         tf.keras.metrics.AUC(),\n",
        "                         tf.keras.metrics.Precision(),\n",
        "                         tf.keras.metrics.Recall()])\n",
        "  \"\"\"\n",
        "  model.compile(loss=\"binary_crossentropy\",\n",
        "                optimizer=Adam(learning_rate=0.0001),\n",
        "                metrics=[BinaryAccuracy(), tf.keras.metrics.Recall(), tf.keras.metrics.Precission])\n",
        "  \"\"\"\n",
        "  return model\n",
        "\n",
        "def get_image_generator(images_dir, **kwargs):\n",
        "  datagen = ImageDataGenerator(**kwargs)\n",
        "  generator = datagen.flow_from_directory(images_dir, batch_size=32, class_mode=\"binary\", color_mode=\"grayscale\")\n",
        "  return generator"
      ]
    },
    {
      "cell_type": "code",
      "execution_count": null,
      "metadata": {
        "id": "WQ9PWxOxfbNd"
      },
      "outputs": [],
      "source": [
        "extract_archive(dataset_archive_path, path_to_extract_archive)"
      ]
    },
    {
      "cell_type": "code",
      "execution_count": null,
      "metadata": {
        "colab": {
          "base_uri": "https://localhost:8080/"
        },
        "id": "51AquGJoIiFx",
        "outputId": "599e3f6a-1faa-4405-c2ec-8964b7a8d51d"
      },
      "outputs": [
        {
          "output_type": "stream",
          "name": "stdout",
          "text": [
            "/tmp/data/train /tmp/data/val /tmp/data/test\n",
            "5248\n",
            "n_images: 5248\n",
            "valid_imgs: 5248\n",
            "n_train_images: 3936\n",
            "n_val_images: 787\n",
            "n_images: 5248\n",
            "n_images: 5248\n",
            "valid_imgs: 5248\n",
            "n_train_images: 3936\n",
            "n_val_images: 787\n",
            "n_images: 5248\n"
          ]
        }
      ],
      "source": [
        "import sys\n",
        "\n",
        "set_seed(SEED_NUM)\n",
        "train_dir, val_dir, test_dir = create_dirs_for_model_training(path_to_dirs_for_model_training, image_classes_dir_path)\n",
        "print(train_dir, val_dir, test_dir)\n",
        "ds_size = get_dataset_size(image_classes_dir_path)\n",
        "print(ds_size)\n",
        "copy_files_for_model_training(image_classes_dir_path, train_dir, val_dir, test_dir, ds_size)\n",
        "\n",
        "#copy_files(training_imgs, imgs_src_dir, training_imgs_dir)\n",
        "#copy_files(test_imgs, imgs_src_dir, test_imgs_dir)\n",
        "#train_images, val_images, test_images = split_data()"
      ]
    },
    {
      "cell_type": "code",
      "execution_count": null,
      "metadata": {
        "colab": {
          "base_uri": "https://localhost:8080/"
        },
        "id": "To7GzGlZLjkh",
        "outputId": "b9e799da-9b22-4f3d-cc8d-8a6b55637223"
      },
      "outputs": [
        {
          "output_type": "stream",
          "name": "stdout",
          "text": [
            "3936\n",
            "787\n",
            "525\n",
            "3936\n",
            "787\n",
            "525\n"
          ]
        }
      ],
      "source": [
        "!ls /tmp/data/train/school | wc -l\n",
        "!ls /tmp/data/val/school | wc -l\n",
        "!ls /tmp/data/test/school | wc -l\n",
        "!ls /tmp/data/train/non_school | wc -l\n",
        "!ls /tmp/data/val/non_school | wc -l\n",
        "!ls /tmp/data/test/non_school | wc -l"
      ]
    },
    {
      "cell_type": "code",
      "execution_count": null,
      "metadata": {
        "colab": {
          "base_uri": "https://localhost:8080/"
        },
        "id": "O3d-fnHM3l7F",
        "outputId": "c78502e0-4e58-4366-e06f-6b92d9523caf"
      },
      "outputs": [
        {
          "output_type": "stream",
          "name": "stdout",
          "text": [
            "Model: \"sequential\"\n",
            "_________________________________________________________________\n",
            " Layer (type)                Output Shape              Param #   \n",
            "=================================================================\n",
            " conv2d (Conv2D)             (None, 254, 254, 16)      160       \n",
            "                                                                 \n",
            " max_pooling2d (MaxPooling2D  (None, 127, 127, 16)     0         \n",
            " )                                                               \n",
            "                                                                 \n",
            " conv2d_1 (Conv2D)           (None, 125, 125, 32)      4640      \n",
            "                                                                 \n",
            " max_pooling2d_1 (MaxPooling  (None, 62, 62, 32)       0         \n",
            " 2D)                                                             \n",
            "                                                                 \n",
            " conv2d_2 (Conv2D)           (None, 60, 60, 64)        18496     \n",
            "                                                                 \n",
            " max_pooling2d_2 (MaxPooling  (None, 30, 30, 64)       0         \n",
            " 2D)                                                             \n",
            "                                                                 \n",
            " conv2d_3 (Conv2D)           (None, 28, 28, 128)       73856     \n",
            "                                                                 \n",
            " max_pooling2d_3 (MaxPooling  (None, 14, 14, 128)      0         \n",
            " 2D)                                                             \n",
            "                                                                 \n",
            " flatten (Flatten)           (None, 25088)             0         \n",
            "                                                                 \n",
            " dense (Dense)               (None, 128)               3211392   \n",
            "                                                                 \n",
            " dense_1 (Dense)             (None, 64)                8256      \n",
            "                                                                 \n",
            " dropout (Dropout)           (None, 64)                0         \n",
            "                                                                 \n",
            " dense_2 (Dense)             (None, 1)                 65        \n",
            "                                                                 \n",
            "=================================================================\n",
            "Total params: 3,316,865\n",
            "Trainable params: 3,316,865\n",
            "Non-trainable params: 0\n",
            "_________________________________________________________________\n",
            "Found 7872 images belonging to 2 classes.\n",
            "Found 1574 images belonging to 2 classes.\n",
            "Found 1050 images belonging to 2 classes.\n"
          ]
        }
      ],
      "source": [
        "model = get_model()\n",
        "train_opts = dict(\n",
        "    width_shift_range=0.2,\n",
        "    height_shift_range=0.2,\n",
        "    shear_range=0.2,\n",
        "    rotation_range=40,\n",
        "    zoom_range=0.1,\n",
        "    horizontal_flip=True,\n",
        "    vertical_flip=True\n",
        ")\n",
        "train_data_generator = get_image_generator(train_dir, **train_opts)\n",
        "val_data_generator = get_image_generator(val_dir)\n",
        "test_data_generator = get_image_generator(test_dir)\n",
        "      "
      ]
    },
    {
      "cell_type": "code",
      "execution_count": null,
      "metadata": {
        "colab": {
          "base_uri": "https://localhost:8080/"
        },
        "id": "uFxUCnZx8_nD",
        "outputId": "057b51dd-62cf-4aec-c269-299147a9ba47"
      },
      "outputs": [
        {
          "output_type": "stream",
          "name": "stdout",
          "text": [
            "Epoch 1/100\n",
            "150/150 - 48s - loss: 0.8984 - binary_accuracy: 0.5735 - auc: 0.5936 - precision: 0.5741 - recall: 0.5901 - val_loss: 1.0772 - val_binary_accuracy: 0.5063 - val_auc: 0.8089 - val_precision: 0.5011 - val_recall: 1.0000 - 48s/epoch - 318ms/step\n",
            "Epoch 2/100\n",
            "150/150 - 37s - loss: 0.5706 - binary_accuracy: 0.7171 - auc: 0.7768 - precision: 0.7063 - recall: 0.7359 - val_loss: 0.6536 - val_binary_accuracy: 0.6844 - val_auc: 0.8649 - val_precision: 0.6130 - val_recall: 0.9895 - 37s/epoch - 246ms/step\n",
            "Epoch 3/100\n",
            "150/150 - 36s - loss: 0.5279 - binary_accuracy: 0.7460 - auc: 0.8150 - precision: 0.7223 - recall: 0.7935 - val_loss: 0.7269 - val_binary_accuracy: 0.6354 - val_auc: 0.8589 - val_precision: 0.5780 - val_recall: 0.9916 - 36s/epoch - 243ms/step\n",
            "Epoch 4/100\n",
            "150/150 - 37s - loss: 0.5101 - binary_accuracy: 0.7429 - auc: 0.8278 - precision: 0.7145 - recall: 0.7928 - val_loss: 0.4547 - val_binary_accuracy: 0.7844 - val_auc: 0.8922 - val_precision: 0.7203 - val_recall: 0.9149 - 37s/epoch - 244ms/step\n",
            "Epoch 5/100\n",
            "150/150 - 36s - loss: 0.5006 - binary_accuracy: 0.7631 - auc: 0.8375 - precision: 0.7386 - recall: 0.8129 - val_loss: 0.4699 - val_binary_accuracy: 0.8000 - val_auc: 0.8736 - val_precision: 0.7795 - val_recall: 0.8436 - 36s/epoch - 243ms/step\n",
            "Epoch 6/100\n",
            "150/150 - 36s - loss: 0.4930 - binary_accuracy: 0.7690 - auc: 0.8408 - precision: 0.7397 - recall: 0.8212 - val_loss: 0.5437 - val_binary_accuracy: 0.7417 - val_auc: 0.8885 - val_precision: 0.6657 - val_recall: 0.9814 - 36s/epoch - 242ms/step\n",
            "Epoch 7/100\n",
            "150/150 - 37s - loss: 0.4856 - binary_accuracy: 0.7713 - auc: 0.8462 - precision: 0.7447 - recall: 0.8293 - val_loss: 0.5126 - val_binary_accuracy: 0.7490 - val_auc: 0.8792 - val_precision: 0.6740 - val_recall: 0.9624 - 37s/epoch - 248ms/step\n",
            "Epoch 8/100\n",
            "150/150 - 36s - loss: 0.4777 - binary_accuracy: 0.7746 - auc: 0.8511 - precision: 0.7486 - recall: 0.8333 - val_loss: 0.4313 - val_binary_accuracy: 0.8062 - val_auc: 0.8871 - val_precision: 0.7662 - val_recall: 0.8838 - 36s/epoch - 243ms/step\n",
            "Epoch 9/100\n",
            "150/150 - 36s - loss: 0.4674 - binary_accuracy: 0.7865 - auc: 0.8603 - precision: 0.7619 - recall: 0.8305 - val_loss: 0.7508 - val_binary_accuracy: 0.7490 - val_auc: 0.8883 - val_precision: 0.6667 - val_recall: 0.9810 - 36s/epoch - 243ms/step\n",
            "Epoch 10/100\n",
            "150/150 - 37s - loss: 0.4587 - binary_accuracy: 0.7942 - auc: 0.8626 - precision: 0.7625 - recall: 0.8519 - val_loss: 0.5590 - val_binary_accuracy: 0.7688 - val_auc: 0.8851 - val_precision: 0.8539 - val_recall: 0.6414 - 37s/epoch - 244ms/step\n",
            "Epoch 11/100\n",
            "150/150 - 36s - loss: 0.4672 - binary_accuracy: 0.7867 - auc: 0.8594 - precision: 0.7605 - recall: 0.8326 - val_loss: 0.4272 - val_binary_accuracy: 0.8083 - val_auc: 0.9003 - val_precision: 0.7421 - val_recall: 0.9196 - 36s/epoch - 243ms/step\n"
          ]
        }
      ],
      "source": [
        "history = model.fit(\n",
        "    train_data_generator,\n",
        "    validation_data = val_data_generator,\n",
        "#    steps_per_epoch=150,\n",
        "#    validation_steps=30,\n",
        "#    epochs=10,\n",
        "    steps_per_epoch=150,\n",
        "    validation_steps=30,\n",
        "    epochs=100,\n",
        "    #callbacks=[AccuracyCallback(target_acc_pct=0.95),\n",
        "    #           EarlyStopping(monitor='binary_accuracy', patience=3)],\n",
        "    callbacks=[EarlyStopping(monitor='recall', patience=10),\n",
        "               EarlyStopping(monitor='precision', patience=10)],\n",
        "    verbose=2\n",
        ")"
      ]
    },
    {
      "cell_type": "code",
      "execution_count": null,
      "metadata": {
        "id": "TX06RrU0-3xP",
        "colab": {
          "base_uri": "https://localhost:8080/",
          "height": 600
        },
        "outputId": "e13ac457-ae00-4581-c154-783cb375a56a"
      },
      "outputs": [
        {
          "output_type": "stream",
          "name": "stdout",
          "text": [
            "<keras.callbacks.History object at 0x7ffa219e0850>\n",
            "{'loss': [0.8984279632568359, 0.5705751180648804, 0.5278728008270264, 0.5100952982902527, 0.5006242990493774, 0.49303218722343445, 0.48562419414520264, 0.4777016341686249, 0.4674321413040161, 0.4586806297302246, 0.46719878911972046], 'binary_accuracy': [0.5735416412353516, 0.7170833349227905, 0.7460416555404663, 0.7429166436195374, 0.7631250023841858, 0.768958330154419, 0.7712500095367432, 0.7745833396911621, 0.7864583134651184, 0.7941666841506958, 0.7866666913032532], 'auc': [0.5936002731323242, 0.776809573173523, 0.8150205612182617, 0.8277968764305115, 0.8374843001365662, 0.8407689332962036, 0.846174418926239, 0.8511486649513245, 0.860314667224884, 0.8626181483268738, 0.859375536441803], 'precision': [0.5741337537765503, 0.7062852382659912, 0.7223070859909058, 0.7145044207572937, 0.7386191487312317, 0.7397416234016418, 0.7446966767311096, 0.7486095428466797, 0.761904776096344, 0.7625468373298645, 0.7605363726615906], 'recall': [0.590062141418457, 0.735936164855957, 0.7935375571250916, 0.7927812933921814, 0.8129436373710632, 0.8211724758148193, 0.8292582035064697, 0.8332645297050476, 0.830473005771637, 0.8518828749656677, 0.8326342105865479], 'val_loss': [1.077224612236023, 0.6535600423812866, 0.7269106507301331, 0.45470985770225525, 0.469900906085968, 0.5436720252037048, 0.5126060247421265, 0.4312995970249176, 0.7508018612861633, 0.5590388178825378, 0.42718440294265747], 'val_binary_accuracy': [0.5062500238418579, 0.684374988079071, 0.6354166865348816, 0.784375011920929, 0.800000011920929, 0.7416666746139526, 0.7489583492279053, 0.8062499761581421, 0.7489583492279053, 0.768750011920929, 0.8083333373069763], 'val_auc': [0.808934211730957, 0.8649209141731262, 0.8588712215423584, 0.892216682434082, 0.87361741065979, 0.88850998878479, 0.8791682720184326, 0.8871204257011414, 0.8882532119750977, 0.8851166367530823, 0.9003087878227234], 'val_precision': [0.5010526180267334, 0.6129870414733887, 0.5780487656593323, 0.7202680110931396, 0.7794677019119263, 0.6657342910766602, 0.6739766001701355, 0.7661870718002319, 0.6666666865348816, 0.8539325594902039, 0.74210524559021], 'val_recall': [1.0, 0.9895178079605103, 0.991631805896759, 0.914893627166748, 0.8436213731765747, 0.9814432859420776, 0.962421715259552, 0.8838174343109131, 0.9809725284576416, 0.6413502097129822, 0.9195652008056641]}\n"
          ]
        },
        {
          "output_type": "display_data",
          "data": {
            "image/png": "[encoded data removed]",
            "text/plain": [
              "<Figure size 432x288 with 1 Axes>"
            ]
          },
          "metadata": {
            "needs_background": "light"
          }
        },
        {
          "output_type": "display_data",
          "data": {
            "image/png": "[encoded data removed]",
            "text/plain": [
              "<Figure size 432x288 with 1 Axes>"
            ]
          },
          "metadata": {
            "needs_background": "light"
          }
        }
      ],
      "source": [
        "%matplotlib inline\n",
        "import matplotlib.pyplot as plt\n",
        "\n",
        "print(history)\n",
        "print(history.history)\n",
        "\n",
        "prec = history.history['precision']\n",
        "recall = history.history['recall']\n",
        "val_prec = history.history['val_precision']\n",
        "val_recall = history.history['val_recall']\n",
        "\n",
        "epochs = range(len(prec))\n",
        "\n",
        "plt.figure()\n",
        "plt.plot(epochs, prec, 'r', label = 'Training precission')\n",
        "plt.plot(epochs, val_prec, 'b', label = 'Validation precision')\n",
        "plt.title('Training and validation precision')\n",
        "plt.legend(loc = 0)\n",
        "plt.figure()\n",
        "plt.plot(epochs, recall, 'r', label = 'Training recall')\n",
        "plt.plot(epochs, val_recall, 'b', label = 'Validation recall')\n",
        "plt.title('Training and validation recall')\n",
        "plt.legend(loc = 0)\n",
        "\n",
        "plt.show()"
      ]
    },
    {
      "cell_type": "code",
      "source": [
        "import numpy as np\n",
        "from google.colab import files\n",
        "from keras.preprocessing import image\n",
        "\n",
        "def predict(model, uploaded_files):\n",
        "  for fn in uploaded_files.keys():\n",
        "    path = '/content/' + fn\n",
        "    img = image.load_img(path)\n",
        "    x = image.img_to_array(img)\n",
        "    fd, hog_image = hog(x, orientations=9, pixels_per_cell=(2, 2),\n",
        "                      cells_per_block=(4, 4), visualize=True, multichannel=True)\n",
        "    hog_image_rescaled = exposure.rescale_intensity(hog_image, in_range=(0, 50))\n",
        "    x = np.expand_dims(hog_image_rescaled, axis = 0)\n",
        "    images = np.vstack([x])\n",
        "    print(images.shape)\n",
        "    classes = model.predict(images, batch_size = 10)\n",
        "    if (classes[0] > 0.5):\n",
        "      print(fn + ' is a school')\n",
        "    else:\n",
        "      print(fn + ' is a non-school')\n",
        "\n",
        "uploaded_files = files.upload()\n",
        "predict(model, uploaded_files)"
      ],
      "metadata": {
        "colab": {
          "resources": {
            "http://localhost:8080/nbextensions/google.colab/files.js": {
              "data": "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",
              "ok": true,
              "headers": [
                [
                  "content-type",
                  "application/javascript"
                ]
              ],
              "status": 200,
              "status_text": ""
            }
          },
          "base_uri": "https://localhost:8080/",
          "height": 109
        },
        "id": "p47SCVYyXlLB",
        "outputId": "62758f91-b704-43a7-be4c-476a1372a6c9"
      },
      "execution_count": null,
      "outputs": [
        {
          "output_type": "display_data",
          "data": {
            "text/html": [
              "\n",
              "     <input type=\"file\" id=\"files-f5b7dfe1-703a-422f-bf6a-0a2351449f2f\" name=\"files[]\" multiple disabled\n",
              "        style=\"border:none\" />\n",
              "     <output id=\"result-f5b7dfe1-703a-422f-bf6a-0a2351449f2f\">\n",
              "      Upload widget is only available when the cell has been executed in the\n",
              "      current browser session. Please rerun this cell to enable.\n",
              "      </output>\n",
              "      <script src=\"/nbextensions/google.colab/files.js\"></script> "
            ],
            "text/plain": [
              "<IPython.core.display.HTML object>"
            ]
          },
          "metadata": {}
        },
        {
          "output_type": "stream",
          "name": "stdout",
          "text": [
            "Saving 51402333_W.png to 51402333_W.png\n",
            "(1, 256, 256)\n",
            "51402333_W.png is a non-school\n"
          ]
        }
      ]
    },
    {
      "cell_type": "code",
      "execution_count": null,
      "metadata": {
        "id": "G8TUHA1Ybxn0"
      },
      "outputs": [],
      "source": [
        "!rm -rf /tmp/data/"
      ]
    }
  ],
  "metadata": {
    "accelerator": "GPU",
    "colab": {
      "collapsed_sections": [],
      "name": "cnn_binary_classifier_with_hog",
      "provenance": []
    },
    "kernelspec": {
      "display_name": "Python 3",
      "name": "python3"
    },
    "language_info": {
      "name": "python"
    }
  },
  "nbformat": 4,
  "nbformat_minor": 0
}